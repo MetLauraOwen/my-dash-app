{
 "cells": [
  {
   "cell_type": "code",
   "execution_count": 7,
   "id": "c63d5b32",
   "metadata": {},
   "outputs": [],
   "source": [
    "# Packages\n",
    "import socket\n",
    "import pickle\n",
    "import pandas as pd\n",
    "import plotly.express as px\n",
    "from dash import Dash, dcc, html\n",
    "from dash.dependencies import Input, Output"
   ]
  },
  {
   "cell_type": "code",
   "execution_count": null,
   "id": "21815438",
   "metadata": {},
   "outputs": [
    {
     "name": "stdout",
     "output_type": "stream",
     "text": [
      "   year  threshold       mhwt ensemble\n",
      "0  1980  29.254530  30.587918       01\n",
      "1  1982  29.311581  30.649778       01\n",
      "2  1984  29.371500  30.713617       01\n",
      "3  1986  29.434034  30.779874       01\n",
      "4  1988  29.498776  30.849119       01\n"
     ]
    }
   ],
   "source": [
    "# Load the dataframes dictionary from the file\n",
    "with open(\"../dataframes/th_mhwt_dataframes_dict.pkl\", \"rb\") as file:\n",
    "    dataframes = pickle.load(file)"
   ]
  },
  {
   "cell_type": "code",
   "execution_count": 9,
   "id": "f4bae787",
   "metadata": {},
   "outputs": [
    {
     "name": "stdout",
     "output_type": "stream",
     "text": [
      "App running on http://127.0.0.1:50623\n"
     ]
    },
    {
     "data": {
      "text/html": [
       "\n",
       "        <iframe\n",
       "            width=\"100%\"\n",
       "            height=\"650\"\n",
       "            src=\"http://127.0.0.1:50623/\"\n",
       "            frameborder=\"0\"\n",
       "            allowfullscreen\n",
       "            \n",
       "        ></iframe>\n",
       "        "
      ],
      "text/plain": [
       "<IPython.lib.display.IFrame at 0x7f8542665e80>"
      ]
     },
     "metadata": {},
     "output_type": "display_data"
    }
   ],
   "source": [
    "# Function to find a free port\n",
    "def get_free_port():\n",
    "    with socket.socket(socket.AF_INET, socket.SOCK_STREAM) as s:\n",
    "        s.bind(('', 0))  # Let the OS choose a free port\n",
    "        return s.getsockname()[1]\n",
    "\n",
    "# Create Dash app\n",
    "#app = dash.Dash(__name__)\n",
    "app = Dash(__name__)\n",
    "\n",
    "app.layout = html.Div([\n",
    "    html.H1(\"City Heatwave Metrics by Ensemble\"),\n",
    "\n",
    "    html.Div([\n",
    "        html.Label(\"Select City:\"),\n",
    "        dcc.Dropdown(\n",
    "            id=\"city-dropdown\",\n",
    "            options=[{\"label\": city.replace(\"_\", \" \"), \"value\": city} for city in dataframes],\n",
    "            value=list(dataframes.keys())[0]\n",
    "        )\n",
    "    ], style={\"width\": \"48%\", \"display\": \"inline-block\"}),\n",
    "\n",
    "    html.Div([\n",
    "        html.Label(\"Select Variable:\"),\n",
    "        dcc.Dropdown(\n",
    "            id=\"variable-dropdown\",\n",
    "            options=[\n",
    "                {\"label\": \"Threshold\", \"value\": \"threshold\"},\n",
    "                {\"label\": \"Mean Heatwave Temp\", \"value\": \"mhwt\"}\n",
    "            ],\n",
    "            value=\"threshold\"\n",
    "        )\n",
    "    ], style={\"width\": \"48%\", \"display\": \"inline-block\", \"float\": \"right\"}),\n",
    "\n",
    "    dcc.Graph(id=\"city-plot\")\n",
    "])\n",
    "\n",
    "@app.callback(\n",
    "    Output(\"city-plot\", \"figure\"),\n",
    "    Input(\"city-dropdown\", \"value\"),\n",
    "    Input(\"variable-dropdown\", \"value\")\n",
    ")\n",
    "def update_plot(selected_city, selected_variable):\n",
    "    df = dataframes[selected_city]\n",
    "    fig = px.line(\n",
    "        df,\n",
    "        x=\"year\",\n",
    "        y=selected_variable,\n",
    "        color=\"ensemble\",\n",
    "        title=f\"{selected_variable.upper()} over Time for {selected_city.replace('_', ' ')} by Ensemble\"\n",
    "    )\n",
    "\n",
    "    for trace in fig.data:\n",
    "        if trace.name == \"mean\":\n",
    "            trace.line.color = \"black\"\n",
    "            trace.line.dash = \"dash\"\n",
    "    fig.update_layout(yaxis_title=selected_variable.upper())\n",
    "    return fig\n",
    "\n",
    "if __name__ == \"__main__\":\n",
    "    port = get_free_port()\n",
    "    print(f\"App running on http://127.0.0.1:{port}\")\n",
    "    app.run(debug=True, port=port)\n"
   ]
  }
 ],
 "metadata": {
  "kernelspec": {
   "display_name": "Python 3",
   "language": "python",
   "name": "python3"
  },
  "language_info": {
   "codemirror_mode": {
    "name": "ipython",
    "version": 3
   },
   "file_extension": ".py",
   "mimetype": "text/x-python",
   "name": "python",
   "nbconvert_exporter": "python",
   "pygments_lexer": "ipython3",
   "version": "3.12.10"
  }
 },
 "nbformat": 4,
 "nbformat_minor": 5
}
