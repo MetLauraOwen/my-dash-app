{
 "cells": [
  {
   "cell_type": "code",
   "execution_count": 45,
   "id": "5a75425e",
   "metadata": {},
   "outputs": [],
   "source": [
    "# Packages\n",
    "import socket\n",
    "import pickle\n",
    "import pandas as pd\n",
    "import plotly.express as px\n",
    "from dash import Dash, dcc, html\n",
    "from dash.dependencies import Input, Output"
   ]
  },
  {
   "cell_type": "code",
   "execution_count": 46,
   "id": "1bdbaa0e",
   "metadata": {},
   "outputs": [
    {
     "name": "stdout",
     "output_type": "stream",
     "text": [
      "           city  duration  year  nduration ensemble\n",
      "0     Liverpool         1  1980   103001.0       01\n",
      "1     Liverpool         1  1982   104201.0       01\n",
      "2     Liverpool         1  1984   105559.0       01\n",
      "3     Liverpool         1  1986   109290.0       01\n",
      "4     Liverpool         1  1988   113000.0       01\n",
      "...         ...       ...   ...        ...      ...\n",
      "5962  Liverpool         9  2072     7159.0     mean\n",
      "5963  Liverpool         9  2074     7095.0     mean\n",
      "5964  Liverpool         9  2076     6906.0     mean\n",
      "5965  Liverpool         9  2078     6959.0     mean\n",
      "5966  Liverpool         9  2080     7025.0     mean\n",
      "\n",
      "[5967 rows x 5 columns]\n"
     ]
    }
   ],
   "source": [
    "# Load the dataframes dictionary from the file\n",
    "with open(\"../dataframes/duration_dataframes_dict.pkl\", \"rb\") as file:\n",
    "    dataframes = pickle.load(file)\n",
    "\n",
    "city = \"Liverpool\"\n",
    "df = dataframes[city]\n",
    "print(df)"
   ]
  },
  {
   "cell_type": "code",
   "execution_count": 47,
   "id": "8bbb1f6f",
   "metadata": {},
   "outputs": [],
   "source": [
    "# Function to find a free port\n",
    "def get_free_port():\n",
    "    with socket.socket(socket.AF_INET, socket.SOCK_STREAM) as s:\n",
    "        s.bind(('', 0))  # Let the OS choose a free port\n",
    "        return s.getsockname()[1]"
   ]
  },
  {
   "cell_type": "code",
   "execution_count": null,
   "id": "f00f0e1d",
   "metadata": {},
   "outputs": [],
   "source": [
    "# Create Dash app\n",
    "app = Dash(__name__)\n",
    "\n",
    "app.layout = html.Div([\n",
    "    html.H1(\"City Heatwave Durations by Ensemble\"),\n",
    "\n",
    "    html.Div([\n",
    "        html.Label(\"Select City:\"),\n",
    "        dcc.Dropdown(\n",
    "            id=\"city-dropdown\",\n",
    "            options=[{\"label\": city.replace(\"_\", \" \"), \"value\": city} for city in dataframes],\n",
    "            value=list(dataframes.keys())[0]\n",
    "        )\n",
    "    ], style={\"width\": \"48%\", \"display\": \"inline-block\"}),\n",
    "\n",
    "    html.Div([\n",
    "        html.Label(\"Select Duration:\"),\n",
    "        dcc.Dropdown(\n",
    "            id=\"duration-dropdown\",\n",
    "            options=[\n",
    "                {\"label\": f\"{i} day\" if i == 1 else f\"{i} days\", \"value\": f\"{i} day\" if i == 1 else f\"{i} days\"}\n",
    "                for i in range(1, 10)\n",
    "            ],\n",
    "            value=\"1 day\"\n",
    "        )\n",
    "    ], style={\"width\": \"48%\", \"display\": \"inline-block\", \"float\": \"right\"}),\n",
    "\n",
    "    dcc.Graph(id=\"city-plot\"),\n",
    "\n",
    "    #SECOND FIGURE\n",
    "\n",
    "    html.Hr(),  # Horizontal line to separate figures\n",
    "\n",
    "    html.H2(\"Heatwave Durations Over Time by City and Ensemble\"),\n",
    "\n",
    "    html.Div([\n",
    "        html.Label(\"Select City:\"),\n",
    "        dcc.Dropdown(\n",
    "            id=\"city2-dropdown\",\n",
    "            options=[{\"label\": city.replace(\"_\", \" \"), \"value\": city} for city in dataframes],\n",
    "            value=list(dataframes.keys())[0]\n",
    "        )\n",
    "    ], style={\"width\": \"48%\", \"display\": \"inline-block\"}),\n",
    "\n",
    "    html.Div([\n",
    "        html.Label(\"Select Ensemble:\"),\n",
    "        dcc.Dropdown(\n",
    "            id=\"ensemble-dropdown\",\n",
    "            options=[],  # Will populate dynamically based on city selection\n",
    "            value=None\n",
    "        )\n",
    "    ], style={\"width\": \"48%\", \"display\": \"inline-block\", \"float\": \"right\"}),\n",
    "\n",
    "    dcc.Graph(id=\"duration-plot\")\n",
    "\n",
    "])"
   ]
  },
  {
   "cell_type": "code",
   "execution_count": 49,
   "id": "92214a63",
   "metadata": {},
   "outputs": [],
   "source": [
    "@app.callback(\n",
    "    Output(\"city-plot\", \"figure\"),\n",
    "    Input(\"city-dropdown\", \"value\"),\n",
    "    Input(\"duration-dropdown\", \"value\")\n",
    ")\n",
    "\n",
    "def update_city_plot(selected_city, selected_duration):\n",
    "    df = dataframes[selected_city]\n",
    "    duration_int = int(selected_duration.split()[0])\n",
    "    filtered_df = df[df[\"duration\"] == duration_int]\n",
    "    fig = px.line(\n",
    "        filtered_df,\n",
    "        x=\"year\",\n",
    "        y=\"nduration\",\n",
    "        color=\"ensemble\",\n",
    "        title=f\"{duration_int} day Heatwave Duration for {selected_city.replace('_', ' ')}\",\n",
    "        markers=True\n",
    "    )\n",
    "\n",
    "    for trace in fig.data:\n",
    "        if trace.name == \"mean\":\n",
    "            trace.line.color = \"black\"\n",
    "            trace.line.dash = \"dash\"\n",
    "\n",
    "    fig.update_layout(yaxis_title=\"nduration\", xaxis_title=\"year\")\n",
    "    return fig"
   ]
  },
  {
   "cell_type": "code",
   "execution_count": 50,
   "id": "72096c86",
   "metadata": {},
   "outputs": [],
   "source": [
    "@app.callback(\n",
    "    Output(\"ensemble-dropdown\", \"options\"),\n",
    "    Output(\"ensemble-dropdown\", \"value\"),\n",
    "    Input(\"city2-dropdown\", \"value\")\n",
    ")\n",
    "def update_ensemble_options(selected_city):\n",
    "    df = dataframes[selected_city]\n",
    "    ensembles = sorted(df[\"ensemble\"].unique())\n",
    "    options = [{\"label\": ens, \"value\": ens} for ens in ensembles]\n",
    "    return options, ensembles[0]  # default to first ensemble"
   ]
  },
  {
   "cell_type": "code",
   "execution_count": 51,
   "id": "2dd52ab2",
   "metadata": {},
   "outputs": [
    {
     "name": "stdout",
     "output_type": "stream",
     "text": [
      "App running on http://127.0.0.1:49995\n"
     ]
    },
    {
     "data": {
      "text/html": [
       "\n",
       "        <iframe\n",
       "            width=\"100%\"\n",
       "            height=\"650\"\n",
       "            src=\"http://127.0.0.1:49995/\"\n",
       "            frameborder=\"0\"\n",
       "            allowfullscreen\n",
       "            \n",
       "        ></iframe>\n",
       "        "
      ],
      "text/plain": [
       "<IPython.lib.display.IFrame at 0x7f1a91136630>"
      ]
     },
     "metadata": {},
     "output_type": "display_data"
    }
   ],
   "source": [
    "@app.callback(\n",
    "    Output(\"duration-plot\", \"figure\"),\n",
    "    Input(\"city2-dropdown\", \"value\"),\n",
    "    Input(\"ensemble-dropdown\", \"value\")\n",
    ")\n",
    "def update_duration_plot(selected_city, selected_ensemble):\n",
    "    df = dataframes[selected_city]\n",
    "    \n",
    "    # Filter by ensemble\n",
    "    filtered_df = df[df[\"ensemble\"] == selected_ensemble]\n",
    "\n",
    "    # Plot with color by duration\n",
    "    fig = px.line(\n",
    "        filtered_df,\n",
    "        x=\"year\",\n",
    "        y=\"nduration\",\n",
    "        color=\"duration\",\n",
    "        title=f\"nduration for {selected_city.replace('_', ' ')} ensemble: {selected_ensemble}\",\n",
    "        markers=True\n",
    "    )\n",
    "    \n",
    "    fig.update_layout(yaxis_title=\"nduration\", xaxis_title=\"year\")\n",
    "    return fig\n",
    "\n",
    "if __name__ == \"__main__\":\n",
    "    port = get_free_port()\n",
    "    print(f\"App running on http://127.0.0.1:{port}\")\n",
    "    app.run(debug=True, port=port)\n"
   ]
  }
 ],
 "metadata": {
  "kernelspec": {
   "display_name": "Python 3",
   "language": "python",
   "name": "python3"
  },
  "language_info": {
   "codemirror_mode": {
    "name": "ipython",
    "version": 3
   },
   "file_extension": ".py",
   "mimetype": "text/x-python",
   "name": "python",
   "nbconvert_exporter": "python",
   "pygments_lexer": "ipython3",
   "version": "3.12.10"
  }
 },
 "nbformat": 4,
 "nbformat_minor": 5
}
