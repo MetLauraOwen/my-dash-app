{
 "cells": [
  {
   "cell_type": "code",
   "execution_count": null,
   "id": "cb404a3b",
   "metadata": {},
   "outputs": [],
   "source": [
    "import pandas as pd\n",
    "from pathlib import Path\n",
    "import socket\n",
    "import dash\n",
    "from dash import dcc, html, Input, Output\n",
    "import plotly.express as px\n",
    "import plotly.graph_objects as go\n",
    "import pyreadr\n",
    "import pickle"
   ]
  },
  {
   "cell_type": "code",
   "execution_count": null,
   "id": "c4512a13",
   "metadata": {},
   "outputs": [],
   "source": [
    "#paths\n",
    "fig_path = Path(\"../figures\")\n",
    "df_path = Path(\"../dataframes\")\n",
    "\n",
    "#read in UK wide dfs\n",
    "duration_df = pd.read_csv(df_path / \"duration_df.csv\")\n",
    "tha_df = pd.read_csv(df_path / \"tha_df.csv\")\n",
    "mhwt_df = pd.read_csv(df_path / \"mhwt_df.csv\")\n",
    "severity_df = pd.read_csv(df_path / \"severity_df.csv\")\n",
    "mseverity_df = pd.read_csv(df_path / \"mseverity_df.csv\")\n",
    "peakvalue_df = pd.read_csv(df_path / \"peakvalue_df.csv\")\n",
    "\n",
    "#read in city dfs \n",
    "with open(\"../dataframes/duration_dataframes_dict.pkl\", \"rb\") as file:\n",
    "    duration_dataframes = pickle.load(file)\n",
    "with open(\"../dataframes/th_mhwt_dataframes_dict.pkl\", \"rb\") as file:\n",
    "    th_mhwt_dataframes = pickle.load(file)\n",
    "with open(\"../dataframes/levxally_dataframes_dict.pkl\", \"rb\") as file:\n",
    "    severity_dataframes = pickle.load(file)\n",
    "    \n",
    "#read in city coord df and get wanted cities\n",
    "result = pyreadr.read_r('/data/users/laura.owen/extremes/heatwaves/HadUKGrid/dur-clim/coords/UK_top30_cities.Rda')\n",
    "city_df = result['city_df']\n",
    "city_names_in_dataframes = set(duration_dataframes.keys())\n",
    "city_df = city_df[city_df['city'].isin(city_names_in_dataframes)].copy()\n",
    "#remove city=Islington as its the same as London\n",
    "city_df = city_df[~((city_df['city'] == 'Islington'))]\n",
    "\n",
    "#edit duration df so that its the no. of days per year/season (need to divide by 100,000)\n",
    "duration_cols = [col for col in duration_df.columns if col.startswith(\"duration\")]\n",
    "duration_df[duration_cols] = duration_df[duration_cols] / 100000\n",
    "for city, df in duration_dataframes.items():\n",
    "    df[\"nduration\"] /= 100000\n",
    "\n",
    "RPy = [0.5, 2, 5, 10, 20, 50, 100, 200, 500, 1000]"
   ]
  }
 ],
 "metadata": {
  "language_info": {
   "name": "python"
  }
 },
 "nbformat": 4,
 "nbformat_minor": 5
}
